{
  "nbformat": 4,
  "nbformat_minor": 0,
  "metadata": {
    "colab": {
      "name": "Shaurya Bhandari:  Gradient Boosting Regressor Model",
      "provenance": []
    },
    "kernelspec": {
      "name": "python3",
      "display_name": "Python 3"
    },
    "accelerator": "GPU"
  },
  "cells": [
    {
      "cell_type": "code",
      "metadata": {
        "id": "9uSWuazvSCMW",
        "colab_type": "code",
        "outputId": "6f19e926-80ee-462f-b19d-df6c213549f3",
        "colab": {
          "base_uri": "https://localhost:8080/",
          "height": 410
        }
      },
      "source": [
        "import numpy as np\n",
        "import pandas as pd\n",
        "from keras.models import Sequential\n",
        "from keras.layers import Dense\n",
        "from keras.wrappers.scikit_learn import KerasRegressor\n",
        "from sklearn.model_selection import cross_val_score\n",
        "from sklearn.model_selection import KFold\n",
        "from sklearn.preprocessing import StandardScaler\n",
        "from sklearn.pipeline import Pipeline\n",
        "\n",
        "\n",
        "data = pd.read_excel('Data_Train.xlsx', index_col=0)\n",
        "\n",
        "data_test = pd.read_excel('Data_Test.xlsx', index_col=0)\n",
        "\n",
        "data=data.values[:,2:8]\n",
        "\n",
        "print(data_test.values[:,2:8])\n",
        "\n",
        "data_test=data_test.values[:,2:8]\n",
        "\n",
        "#Data Cleaning and preprocessing\n",
        "\n",
        "for i in range(data.shape[0]):\n",
        "    data[i,0]=data[i,0].replace('₹', '')\n",
        "    data[i,1]=data[i,1].replace('₹', '')\n",
        "    data[i,2]=data[i,2].replace('-', '0')\n",
        "    data[i,3]=data[i,3].replace('-', '0')\n",
        "    data[i,4]=data[i,4].replace('-', '0')\n",
        "    data[i,2]=data[i,2].replace('NEW', '0')\n",
        "    data[i,5]=data[i,5].replace(' minutes', '')\n",
        "\n",
        "    data[i,0]=data[i,0].replace(',', '')\n",
        "    data[i,1]=data[i,1].replace(',', '')\n",
        "    data[i,2]=data[i,2].replace(',', '')\n",
        "    data[i,2]=data[i,2].replace('Opening Soon', '0')\n",
        "    data[i,0]=data[i,0].replace('for', '0')\n",
        "    data[i,2]=data[i,2].replace('Temporarily Closed', '0')\n",
        "\n",
        "datat=data_test\n",
        "\n",
        "for i in range(datat.shape[0]):\n",
        "    datat[i,0]=datat[i,0].replace('₹', '')\n",
        "    datat[i,1]=datat[i,1].replace('₹', '')\n",
        "    datat[i,2]=datat[i,2].replace('-', '0')\n",
        "    datat[i,3]=datat[i,3].replace('-', '0')\n",
        "    datat[i,4]=datat[i,4].replace('-', '0')\n",
        "    datat[i,2]=datat[i,2].replace('NEW', '0')\n",
        "    #datat[i,5]=datat[i,5].replace(' minutes', '')\n",
        "\n",
        "    datat[i,0]=datat[i,0].replace(',', '')\n",
        "    datat[i,1]=datat[i,1].replace(',', '')\n",
        "    datat[i,2]=datat[i,2].replace(',', '')\n",
        "    datat[i,2]=datat[i,2].replace('Opening Soon', '0')\n",
        "    datat[i,0]=datat[i,0].replace('for', '0')\n",
        "    datat[i,2]=datat[i,2].replace('Temporarily Closed', '0')    \n",
        "    \n",
        "\n",
        "\n",
        "for i in range(data.shape[0]):\n",
        "    \n",
        "    for j in range(data.shape[1]):\n",
        "        \n",
        "        data[i,j] = float(data[i,j])\n",
        "        \n",
        "for i in range(datat.shape[0]):\n",
        "    \n",
        "    for j in range(datat.shape[1]):\n",
        "        \n",
        "        datat[i,j] = float(datat[i,j])\n",
        "        \n",
        "\n",
        "X = data[:,0:5]\n",
        "Y = data[:,5]\n",
        "Xt = datat[:,0:5]\n",
        "print(X,\"\\n\",Y,\"\\n\",Xt)"
      ],
      "execution_count": 0,
      "outputs": [
        {
          "output_type": "stream",
          "text": [
            "[['₹350' '₹50' '4.2' '361' '225']\n",
            " ['₹100' '₹50' 'NEW' '-' '-']\n",
            " ['₹100' '₹50' '3.6' '36' '16']\n",
            " ...\n",
            " ['₹150' '₹50' '3.0' '16' '1']\n",
            " ['₹100' '₹99' '3.0' '7' '2']\n",
            " ['₹150' '₹50' '3.6' '99' '30']]\n",
            "[[200.0 50.0 3.5 12.0 4.0]\n",
            " [100.0 50.0 3.5 11.0 4.0]\n",
            " [150.0 50.0 3.6 99.0 30.0]\n",
            " ...\n",
            " [100.0 50.0 3.5 45.0 18.0]\n",
            " [100.0 50.0 3.1 24.0 9.0]\n",
            " [100.0 50.0 0.0 0.0 0.0]] \n",
            " [30.0 30.0 65.0 ... 30.0 30.0 30.0] \n",
            " [[350.0 50.0 4.2 361.0 225.0]\n",
            " [100.0 50.0 0.0 0.0 0.0]\n",
            " [100.0 50.0 3.6 36.0 16.0]\n",
            " ...\n",
            " [150.0 50.0 3.0 16.0 1.0]\n",
            " [100.0 99.0 3.0 7.0 2.0]\n",
            " [150.0 50.0 3.6 99.0 30.0]]\n"
          ],
          "name": "stdout"
        }
      ]
    },
    {
      "cell_type": "code",
      "metadata": {
        "id": "OSdd-dkaeefO",
        "colab_type": "code",
        "colab": {}
      },
      "source": [
        "#Feature Scaling\n",
        "from sklearn.preprocessing import StandardScaler\n",
        "\n",
        "sc = StandardScaler()\n",
        "\n",
        "X = sc.fit_transform(X)\n",
        "\n",
        "Xt = sc.transform(Xt)\n",
        "\n",
        "\n",
        "Y = Y.reshape((len(Y), 1)) \n",
        "\n",
        "Y = sc.fit_transform(Y)\n",
        "\n",
        "Y = Y.ravel()\n"
      ],
      "execution_count": 0,
      "outputs": []
    },
    {
      "cell_type": "code",
      "metadata": {
        "id": "5_M8CD7Te1OG",
        "colab_type": "code",
        "outputId": "81287a85-29af-4910-cd6b-d180bec1a9fb",
        "colab": {
          "base_uri": "https://localhost:8080/",
          "height": 196
        }
      },
      "source": [
        "#Model Building\n",
        "from sklearn.ensemble import GradientBoostingRegressor\n",
        "\n",
        "gbr=GradientBoostingRegressor( loss = 'huber',learning_rate=0.001,n_estimators=350, max_depth=6 , subsample=1,  verbose=False,random_state=126)  \n",
        "gbr.fit(X, Y)\n",
        "\n"
      ],
      "execution_count": 0,
      "outputs": [
        {
          "output_type": "execute_result",
          "data": {
            "text/plain": [
              "GradientBoostingRegressor(alpha=0.9, criterion='friedman_mse', init=None,\n",
              "                          learning_rate=0.001, loss='huber', max_depth=6,\n",
              "                          max_features=None, max_leaf_nodes=None,\n",
              "                          min_impurity_decrease=0.0, min_impurity_split=None,\n",
              "                          min_samples_leaf=1, min_samples_split=2,\n",
              "                          min_weight_fraction_leaf=0.0, n_estimators=350,\n",
              "                          n_iter_no_change=None, presort='auto',\n",
              "                          random_state=126, subsample=1, tol=0.0001,\n",
              "                          validation_fraction=0.1, verbose=False,\n",
              "                          warm_start=False)"
            ]
          },
          "metadata": {
            "tags": []
          },
          "execution_count": 115
        }
      ]
    },
    {
      "cell_type": "code",
      "metadata": {
        "id": "Sm-i6KjpfYKw",
        "colab_type": "code",
        "colab": {}
      },
      "source": [
        "#Prediction for test data \n",
        "y_pred_gbr = sc.inverse_transform(gbr.predict(Xt))\n",
        "y1=y_pred_gbr.astype(int) \n",
        "y1=y1.astype(int).astype(str) \n",
        "for i in range(len(y1)):\n",
        "    y1[i] = y1[i]+\" minutes\""
      ],
      "execution_count": 0,
      "outputs": []
    },
    {
      "cell_type": "code",
      "metadata": {
        "id": "-trxnRA-fisl",
        "colab_type": "code",
        "outputId": "147ebbe8-1594-406f-d279-3a879c1ecd91",
        "colab": {
          "base_uri": "https://localhost:8080/",
          "height": 267
        }
      },
      "source": [
        "#Sending output to Excel file\n",
        "df = pd.DataFrame (y1)\n",
        "print(df.head)\n",
        "df.to_excel(\"GradientBoostingRegressor.xlsx\", index = False)"
      ],
      "execution_count": 0,
      "outputs": [
        {
          "output_type": "stream",
          "text": [
            "<bound method NDFrame.head of                0\n",
            "0     32 minutes\n",
            "1     30 minutes\n",
            "2     30 minutes\n",
            "3     31 minutes\n",
            "4     31 minutes\n",
            "...          ...\n",
            "2769  30 minutes\n",
            "2770  30 minutes\n",
            "2771  30 minutes\n",
            "2772  32 minutes\n",
            "2773  31 minutes\n",
            "\n",
            "[2774 rows x 1 columns]>\n"
          ],
          "name": "stdout"
        }
      ]
    },
    {
      "cell_type": "code",
      "metadata": {
        "id": "bCDLJES-kZ_p",
        "colab_type": "code",
        "colab": {}
      },
      "source": [
        ""
      ],
      "execution_count": 0,
      "outputs": []
    }
  ]
}